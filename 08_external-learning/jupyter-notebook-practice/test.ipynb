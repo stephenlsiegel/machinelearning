{
 "cells": [
  {
   "cell_type": "code",
   "execution_count": 19,
   "metadata": {
    "collapsed": false
   },
   "outputs": [
    {
     "name": "stdout",
     "output_type": "stream",
     "text": [
      "[62, 69, 69, 65, 89, 79, 83, 60, 57, 107]\n"
     ]
    }
   ],
   "source": [
    "import numpy as np\n",
    "\n",
    "paths = []\n",
    "final_position = []\n",
    "for i in range(1000):\n",
    "    path = [0]\n",
    "    step = 0\n",
    "    for i in range(100):\n",
    "        flip = np.random.randint(1,7)\n",
    "\n",
    "        if flip <= 2:\n",
    "            step -= 1\n",
    "        elif flip <= 5:\n",
    "            step += 1\n",
    "        else:\n",
    "            step += np.random.randint(1,7)\n",
    "        path.append(step)\n",
    "    paths.append(path)\n",
    "    final_position.append(step)\n",
    "\n",
    "np_paths = np.array(paths)\n",
    "\n",
    "print final_position[0:10]"
   ]
  },
  {
   "cell_type": "code",
   "execution_count": 20,
   "metadata": {
    "collapsed": false
   },
   "outputs": [
    {
     "name": "stdout",
     "output_type": "stream",
     "text": [
      "[ 0 -1  0  4  7  6  7  8  9  8  9  8  7  6  7  6  7  6  5  4  6  7  6  7  8\n",
      "  7  8  9 10 11 12 13 14 15 14 15 16 15 17 18 19 18 17 16 17 22 23 27 26 29\n",
      " 30 29 28 29 32 33 32 33 34 35 34 33 34 35 36 37 38 40 39 40 41 42 41 42 46\n",
      " 47 48 47 48 49 50 51 50 51 50 51 54 55 58 57 58 57 56 57 58 59 60 59 60 61\n",
      " 62]\n"
     ]
    }
   ],
   "source": [
    "import matplotlib.pyplot as plt\n",
    "\n",
    "print np_paths[0]\n",
    "\n",
    "# plt.plot(np_paths[0])\n",
    "# plt.show()"
   ]
  },
  {
   "cell_type": "code",
   "execution_count": 21,
   "metadata": {
    "collapsed": false
   },
   "outputs": [],
   "source": [
    "# Plot a histogram of all the final positions\n",
    "plt.hist(final_position, bins = 10)\n",
    "plt.show()"
   ]
  },
  {
   "cell_type": "code",
   "execution_count": 22,
   "metadata": {
    "collapsed": true
   },
   "outputs": [],
   "source": [
    "# Plot all the paths visually\n",
    "plt.plot(np.transpose(np_paths))\n",
    "plt.show()"
   ]
  },
  {
   "cell_type": "code",
   "execution_count": null,
   "metadata": {
    "collapsed": true
   },
   "outputs": [],
   "source": []
  }
 ],
 "metadata": {
  "kernelspec": {
   "display_name": "Python [Root]",
   "language": "python",
   "name": "Python [Root]"
  },
  "language_info": {
   "codemirror_mode": {
    "name": "ipython",
    "version": 2
   },
   "file_extension": ".py",
   "mimetype": "text/x-python",
   "name": "python",
   "nbconvert_exporter": "python",
   "pygments_lexer": "ipython2",
   "version": "2.7.11"
  }
 },
 "nbformat": 4,
 "nbformat_minor": 0
}
